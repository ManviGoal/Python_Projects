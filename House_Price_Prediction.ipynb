{
 "cells": [
  {
   "cell_type": "code",
   "execution_count": 1,
   "metadata": {},
   "outputs": [],
   "source": [
    "import numpy as np\n",
    "import pandas as pd\n",
    "import matplotlib.pyplot as plt\n",
    "import seaborn as sns\n",
    "%matplotlib inline"
   ]
  },
  {
   "cell_type": "code",
   "execution_count": 3,
   "metadata": {},
   "outputs": [],
   "source": [
    "house=pd.read_csv('train_house.csv')"
   ]
  },
  {
   "cell_type": "code",
   "execution_count": 4,
   "metadata": {},
   "outputs": [
    {
     "data": {
      "text/html": [
       "<div>\n",
       "<style scoped>\n",
       "    .dataframe tbody tr th:only-of-type {\n",
       "        vertical-align: middle;\n",
       "    }\n",
       "\n",
       "    .dataframe tbody tr th {\n",
       "        vertical-align: top;\n",
       "    }\n",
       "\n",
       "    .dataframe thead th {\n",
       "        text-align: right;\n",
       "    }\n",
       "</style>\n",
       "<table border=\"1\" class=\"dataframe\">\n",
       "  <thead>\n",
       "    <tr style=\"text-align: right;\">\n",
       "      <th></th>\n",
       "      <th>Id</th>\n",
       "      <th>MSSubClass</th>\n",
       "      <th>LotFrontage</th>\n",
       "      <th>LotArea</th>\n",
       "      <th>OverallQual</th>\n",
       "      <th>OverallCond</th>\n",
       "      <th>YearBuilt</th>\n",
       "      <th>YearRemodAdd</th>\n",
       "      <th>MasVnrArea</th>\n",
       "      <th>BsmtFinSF1</th>\n",
       "      <th>...</th>\n",
       "      <th>WoodDeckSF</th>\n",
       "      <th>OpenPorchSF</th>\n",
       "      <th>EnclosedPorch</th>\n",
       "      <th>3SsnPorch</th>\n",
       "      <th>ScreenPorch</th>\n",
       "      <th>PoolArea</th>\n",
       "      <th>MiscVal</th>\n",
       "      <th>MoSold</th>\n",
       "      <th>YrSold</th>\n",
       "      <th>SalePrice</th>\n",
       "    </tr>\n",
       "  </thead>\n",
       "  <tbody>\n",
       "    <tr>\n",
       "      <th>count</th>\n",
       "      <td>1460.000000</td>\n",
       "      <td>1460.000000</td>\n",
       "      <td>1201.000000</td>\n",
       "      <td>1460.000000</td>\n",
       "      <td>1460.000000</td>\n",
       "      <td>1460.000000</td>\n",
       "      <td>1460.000000</td>\n",
       "      <td>1460.000000</td>\n",
       "      <td>1452.000000</td>\n",
       "      <td>1460.000000</td>\n",
       "      <td>...</td>\n",
       "      <td>1460.000000</td>\n",
       "      <td>1460.000000</td>\n",
       "      <td>1460.000000</td>\n",
       "      <td>1460.000000</td>\n",
       "      <td>1460.000000</td>\n",
       "      <td>1460.000000</td>\n",
       "      <td>1460.000000</td>\n",
       "      <td>1460.000000</td>\n",
       "      <td>1460.000000</td>\n",
       "      <td>1460.000000</td>\n",
       "    </tr>\n",
       "    <tr>\n",
       "      <th>mean</th>\n",
       "      <td>730.500000</td>\n",
       "      <td>56.897260</td>\n",
       "      <td>70.049958</td>\n",
       "      <td>10516.828082</td>\n",
       "      <td>6.099315</td>\n",
       "      <td>5.575342</td>\n",
       "      <td>1971.267808</td>\n",
       "      <td>1984.865753</td>\n",
       "      <td>103.685262</td>\n",
       "      <td>443.639726</td>\n",
       "      <td>...</td>\n",
       "      <td>94.244521</td>\n",
       "      <td>46.660274</td>\n",
       "      <td>21.954110</td>\n",
       "      <td>3.409589</td>\n",
       "      <td>15.060959</td>\n",
       "      <td>2.758904</td>\n",
       "      <td>43.489041</td>\n",
       "      <td>6.321918</td>\n",
       "      <td>2007.815753</td>\n",
       "      <td>180921.195890</td>\n",
       "    </tr>\n",
       "    <tr>\n",
       "      <th>std</th>\n",
       "      <td>421.610009</td>\n",
       "      <td>42.300571</td>\n",
       "      <td>24.284752</td>\n",
       "      <td>9981.264932</td>\n",
       "      <td>1.382997</td>\n",
       "      <td>1.112799</td>\n",
       "      <td>30.202904</td>\n",
       "      <td>20.645407</td>\n",
       "      <td>181.066207</td>\n",
       "      <td>456.098091</td>\n",
       "      <td>...</td>\n",
       "      <td>125.338794</td>\n",
       "      <td>66.256028</td>\n",
       "      <td>61.119149</td>\n",
       "      <td>29.317331</td>\n",
       "      <td>55.757415</td>\n",
       "      <td>40.177307</td>\n",
       "      <td>496.123024</td>\n",
       "      <td>2.703626</td>\n",
       "      <td>1.328095</td>\n",
       "      <td>79442.502883</td>\n",
       "    </tr>\n",
       "    <tr>\n",
       "      <th>min</th>\n",
       "      <td>1.000000</td>\n",
       "      <td>20.000000</td>\n",
       "      <td>21.000000</td>\n",
       "      <td>1300.000000</td>\n",
       "      <td>1.000000</td>\n",
       "      <td>1.000000</td>\n",
       "      <td>1872.000000</td>\n",
       "      <td>1950.000000</td>\n",
       "      <td>0.000000</td>\n",
       "      <td>0.000000</td>\n",
       "      <td>...</td>\n",
       "      <td>0.000000</td>\n",
       "      <td>0.000000</td>\n",
       "      <td>0.000000</td>\n",
       "      <td>0.000000</td>\n",
       "      <td>0.000000</td>\n",
       "      <td>0.000000</td>\n",
       "      <td>0.000000</td>\n",
       "      <td>1.000000</td>\n",
       "      <td>2006.000000</td>\n",
       "      <td>34900.000000</td>\n",
       "    </tr>\n",
       "    <tr>\n",
       "      <th>25%</th>\n",
       "      <td>365.750000</td>\n",
       "      <td>20.000000</td>\n",
       "      <td>59.000000</td>\n",
       "      <td>7553.500000</td>\n",
       "      <td>5.000000</td>\n",
       "      <td>5.000000</td>\n",
       "      <td>1954.000000</td>\n",
       "      <td>1967.000000</td>\n",
       "      <td>0.000000</td>\n",
       "      <td>0.000000</td>\n",
       "      <td>...</td>\n",
       "      <td>0.000000</td>\n",
       "      <td>0.000000</td>\n",
       "      <td>0.000000</td>\n",
       "      <td>0.000000</td>\n",
       "      <td>0.000000</td>\n",
       "      <td>0.000000</td>\n",
       "      <td>0.000000</td>\n",
       "      <td>5.000000</td>\n",
       "      <td>2007.000000</td>\n",
       "      <td>129975.000000</td>\n",
       "    </tr>\n",
       "    <tr>\n",
       "      <th>50%</th>\n",
       "      <td>730.500000</td>\n",
       "      <td>50.000000</td>\n",
       "      <td>69.000000</td>\n",
       "      <td>9478.500000</td>\n",
       "      <td>6.000000</td>\n",
       "      <td>5.000000</td>\n",
       "      <td>1973.000000</td>\n",
       "      <td>1994.000000</td>\n",
       "      <td>0.000000</td>\n",
       "      <td>383.500000</td>\n",
       "      <td>...</td>\n",
       "      <td>0.000000</td>\n",
       "      <td>25.000000</td>\n",
       "      <td>0.000000</td>\n",
       "      <td>0.000000</td>\n",
       "      <td>0.000000</td>\n",
       "      <td>0.000000</td>\n",
       "      <td>0.000000</td>\n",
       "      <td>6.000000</td>\n",
       "      <td>2008.000000</td>\n",
       "      <td>163000.000000</td>\n",
       "    </tr>\n",
       "    <tr>\n",
       "      <th>75%</th>\n",
       "      <td>1095.250000</td>\n",
       "      <td>70.000000</td>\n",
       "      <td>80.000000</td>\n",
       "      <td>11601.500000</td>\n",
       "      <td>7.000000</td>\n",
       "      <td>6.000000</td>\n",
       "      <td>2000.000000</td>\n",
       "      <td>2004.000000</td>\n",
       "      <td>166.000000</td>\n",
       "      <td>712.250000</td>\n",
       "      <td>...</td>\n",
       "      <td>168.000000</td>\n",
       "      <td>68.000000</td>\n",
       "      <td>0.000000</td>\n",
       "      <td>0.000000</td>\n",
       "      <td>0.000000</td>\n",
       "      <td>0.000000</td>\n",
       "      <td>0.000000</td>\n",
       "      <td>8.000000</td>\n",
       "      <td>2009.000000</td>\n",
       "      <td>214000.000000</td>\n",
       "    </tr>\n",
       "    <tr>\n",
       "      <th>max</th>\n",
       "      <td>1460.000000</td>\n",
       "      <td>190.000000</td>\n",
       "      <td>313.000000</td>\n",
       "      <td>215245.000000</td>\n",
       "      <td>10.000000</td>\n",
       "      <td>9.000000</td>\n",
       "      <td>2010.000000</td>\n",
       "      <td>2010.000000</td>\n",
       "      <td>1600.000000</td>\n",
       "      <td>5644.000000</td>\n",
       "      <td>...</td>\n",
       "      <td>857.000000</td>\n",
       "      <td>547.000000</td>\n",
       "      <td>552.000000</td>\n",
       "      <td>508.000000</td>\n",
       "      <td>480.000000</td>\n",
       "      <td>738.000000</td>\n",
       "      <td>15500.000000</td>\n",
       "      <td>12.000000</td>\n",
       "      <td>2010.000000</td>\n",
       "      <td>755000.000000</td>\n",
       "    </tr>\n",
       "  </tbody>\n",
       "</table>\n",
       "<p>8 rows × 38 columns</p>\n",
       "</div>"
      ],
      "text/plain": [
       "                Id   MSSubClass  LotFrontage        LotArea  OverallQual  \\\n",
       "count  1460.000000  1460.000000  1201.000000    1460.000000  1460.000000   \n",
       "mean    730.500000    56.897260    70.049958   10516.828082     6.099315   \n",
       "std     421.610009    42.300571    24.284752    9981.264932     1.382997   \n",
       "min       1.000000    20.000000    21.000000    1300.000000     1.000000   \n",
       "25%     365.750000    20.000000    59.000000    7553.500000     5.000000   \n",
       "50%     730.500000    50.000000    69.000000    9478.500000     6.000000   \n",
       "75%    1095.250000    70.000000    80.000000   11601.500000     7.000000   \n",
       "max    1460.000000   190.000000   313.000000  215245.000000    10.000000   \n",
       "\n",
       "       OverallCond    YearBuilt  YearRemodAdd   MasVnrArea   BsmtFinSF1  ...  \\\n",
       "count  1460.000000  1460.000000   1460.000000  1452.000000  1460.000000  ...   \n",
       "mean      5.575342  1971.267808   1984.865753   103.685262   443.639726  ...   \n",
       "std       1.112799    30.202904     20.645407   181.066207   456.098091  ...   \n",
       "min       1.000000  1872.000000   1950.000000     0.000000     0.000000  ...   \n",
       "25%       5.000000  1954.000000   1967.000000     0.000000     0.000000  ...   \n",
       "50%       5.000000  1973.000000   1994.000000     0.000000   383.500000  ...   \n",
       "75%       6.000000  2000.000000   2004.000000   166.000000   712.250000  ...   \n",
       "max       9.000000  2010.000000   2010.000000  1600.000000  5644.000000  ...   \n",
       "\n",
       "        WoodDeckSF  OpenPorchSF  EnclosedPorch    3SsnPorch  ScreenPorch  \\\n",
       "count  1460.000000  1460.000000    1460.000000  1460.000000  1460.000000   \n",
       "mean     94.244521    46.660274      21.954110     3.409589    15.060959   \n",
       "std     125.338794    66.256028      61.119149    29.317331    55.757415   \n",
       "min       0.000000     0.000000       0.000000     0.000000     0.000000   \n",
       "25%       0.000000     0.000000       0.000000     0.000000     0.000000   \n",
       "50%       0.000000    25.000000       0.000000     0.000000     0.000000   \n",
       "75%     168.000000    68.000000       0.000000     0.000000     0.000000   \n",
       "max     857.000000   547.000000     552.000000   508.000000   480.000000   \n",
       "\n",
       "          PoolArea       MiscVal       MoSold       YrSold      SalePrice  \n",
       "count  1460.000000   1460.000000  1460.000000  1460.000000    1460.000000  \n",
       "mean      2.758904     43.489041     6.321918  2007.815753  180921.195890  \n",
       "std      40.177307    496.123024     2.703626     1.328095   79442.502883  \n",
       "min       0.000000      0.000000     1.000000  2006.000000   34900.000000  \n",
       "25%       0.000000      0.000000     5.000000  2007.000000  129975.000000  \n",
       "50%       0.000000      0.000000     6.000000  2008.000000  163000.000000  \n",
       "75%       0.000000      0.000000     8.000000  2009.000000  214000.000000  \n",
       "max     738.000000  15500.000000    12.000000  2010.000000  755000.000000  \n",
       "\n",
       "[8 rows x 38 columns]"
      ]
     },
     "execution_count": 4,
     "metadata": {},
     "output_type": "execute_result"
    }
   ],
   "source": [
    "house.describe()"
   ]
  },
  {
   "cell_type": "code",
   "execution_count": 5,
   "metadata": {},
   "outputs": [
    {
     "name": "stdout",
     "output_type": "stream",
     "text": [
      "<class 'pandas.core.frame.DataFrame'>\n",
      "RangeIndex: 1460 entries, 0 to 1459\n",
      "Data columns (total 81 columns):\n",
      " #   Column         Non-Null Count  Dtype  \n",
      "---  ------         --------------  -----  \n",
      " 0   Id             1460 non-null   int64  \n",
      " 1   MSSubClass     1460 non-null   int64  \n",
      " 2   MSZoning       1460 non-null   object \n",
      " 3   LotFrontage    1201 non-null   float64\n",
      " 4   LotArea        1460 non-null   int64  \n",
      " 5   Street         1460 non-null   object \n",
      " 6   Alley          91 non-null     object \n",
      " 7   LotShape       1460 non-null   object \n",
      " 8   LandContour    1460 non-null   object \n",
      " 9   Utilities      1460 non-null   object \n",
      " 10  LotConfig      1460 non-null   object \n",
      " 11  LandSlope      1460 non-null   object \n",
      " 12  Neighborhood   1460 non-null   object \n",
      " 13  Condition1     1460 non-null   object \n",
      " 14  Condition2     1460 non-null   object \n",
      " 15  BldgType       1460 non-null   object \n",
      " 16  HouseStyle     1460 non-null   object \n",
      " 17  OverallQual    1460 non-null   int64  \n",
      " 18  OverallCond    1460 non-null   int64  \n",
      " 19  YearBuilt      1460 non-null   int64  \n",
      " 20  YearRemodAdd   1460 non-null   int64  \n",
      " 21  RoofStyle      1460 non-null   object \n",
      " 22  RoofMatl       1460 non-null   object \n",
      " 23  Exterior1st    1460 non-null   object \n",
      " 24  Exterior2nd    1460 non-null   object \n",
      " 25  MasVnrType     1452 non-null   object \n",
      " 26  MasVnrArea     1452 non-null   float64\n",
      " 27  ExterQual      1460 non-null   object \n",
      " 28  ExterCond      1460 non-null   object \n",
      " 29  Foundation     1460 non-null   object \n",
      " 30  BsmtQual       1423 non-null   object \n",
      " 31  BsmtCond       1423 non-null   object \n",
      " 32  BsmtExposure   1422 non-null   object \n",
      " 33  BsmtFinType1   1423 non-null   object \n",
      " 34  BsmtFinSF1     1460 non-null   int64  \n",
      " 35  BsmtFinType2   1422 non-null   object \n",
      " 36  BsmtFinSF2     1460 non-null   int64  \n",
      " 37  BsmtUnfSF      1460 non-null   int64  \n",
      " 38  TotalBsmtSF    1460 non-null   int64  \n",
      " 39  Heating        1460 non-null   object \n",
      " 40  HeatingQC      1460 non-null   object \n",
      " 41  CentralAir     1460 non-null   object \n",
      " 42  Electrical     1459 non-null   object \n",
      " 43  1stFlrSF       1460 non-null   int64  \n",
      " 44  2ndFlrSF       1460 non-null   int64  \n",
      " 45  LowQualFinSF   1460 non-null   int64  \n",
      " 46  GrLivArea      1460 non-null   int64  \n",
      " 47  BsmtFullBath   1460 non-null   int64  \n",
      " 48  BsmtHalfBath   1460 non-null   int64  \n",
      " 49  FullBath       1460 non-null   int64  \n",
      " 50  HalfBath       1460 non-null   int64  \n",
      " 51  BedroomAbvGr   1460 non-null   int64  \n",
      " 52  KitchenAbvGr   1460 non-null   int64  \n",
      " 53  KitchenQual    1460 non-null   object \n",
      " 54  TotRmsAbvGrd   1460 non-null   int64  \n",
      " 55  Functional     1460 non-null   object \n",
      " 56  Fireplaces     1460 non-null   int64  \n",
      " 57  FireplaceQu    770 non-null    object \n",
      " 58  GarageType     1379 non-null   object \n",
      " 59  GarageYrBlt    1379 non-null   float64\n",
      " 60  GarageFinish   1379 non-null   object \n",
      " 61  GarageCars     1460 non-null   int64  \n",
      " 62  GarageArea     1460 non-null   int64  \n",
      " 63  GarageQual     1379 non-null   object \n",
      " 64  GarageCond     1379 non-null   object \n",
      " 65  PavedDrive     1460 non-null   object \n",
      " 66  WoodDeckSF     1460 non-null   int64  \n",
      " 67  OpenPorchSF    1460 non-null   int64  \n",
      " 68  EnclosedPorch  1460 non-null   int64  \n",
      " 69  3SsnPorch      1460 non-null   int64  \n",
      " 70  ScreenPorch    1460 non-null   int64  \n",
      " 71  PoolArea       1460 non-null   int64  \n",
      " 72  PoolQC         7 non-null      object \n",
      " 73  Fence          281 non-null    object \n",
      " 74  MiscFeature    54 non-null     object \n",
      " 75  MiscVal        1460 non-null   int64  \n",
      " 76  MoSold         1460 non-null   int64  \n",
      " 77  YrSold         1460 non-null   int64  \n",
      " 78  SaleType       1460 non-null   object \n",
      " 79  SaleCondition  1460 non-null   object \n",
      " 80  SalePrice      1460 non-null   int64  \n",
      "dtypes: float64(3), int64(35), object(43)\n",
      "memory usage: 924.0+ KB\n"
     ]
    }
   ],
   "source": [
    "house.info()"
   ]
  },
  {
   "cell_type": "raw",
   "metadata": {},
   "source": [
    "# Here's a brief version of what you'll find in the data description file.\n",
    "\n",
    "# SalePrice - the property's sale price in dollars. This is the target variable that you're trying to predict. dependent variable\n",
    "# MSSubClass: The building class\n",
    "# MSZoning: The general zoning classification\n",
    "# LotFrontage: Linear feet of street connected to property\n",
    "# LotArea: Lot size in square feet\n",
    "# Street: Type of road access\n",
    "# Alley: Type of alley access\n",
    "# LotShape: General shape of property\n",
    "# LandContour: Flatness of the property\n",
    "# Utilities: Type of utilities available\n",
    "# LotConfig: Lot configuration\n",
    "# LandSlope: Slope of property\n",
    "# Neighborhood: Physical locations within Ames city limits\n",
    "# Condition1: Proximity to main road or railroad\n",
    "# Condition2: Proximity to main road or railroad (if a second is present)\n",
    "# BldgType: Type of dwelling\n",
    "# HouseStyle: Style of dwelling\n",
    "# OverallQual: Overall material and finish quality\n",
    "# OverallCond: Overall condition rating\n",
    "# YearBuilt: Original construction date\n",
    "# YearRemodAdd: Remodel date\n",
    "# RoofStyle: Type of roof\n",
    "# RoofMatl: Roof material\n",
    "# Exterior1st: Exterior covering on house\n",
    "# Exterior2nd: Exterior covering on house (if more than one material)\n",
    "# MasVnrType: Masonry veneer type\n",
    "# MasVnrArea: Masonry veneer area in square feet\n",
    "# ExterQual: Exterior material quality\n",
    "# ExterCond: Present condition of the material on the exterior\n",
    "# Foundation: Type of foundation\n",
    "# BsmtQual: Height of the basement\n",
    "# BsmtCond: General condition of the basement\n",
    "# BsmtExposure: Walkout or garden level basement walls\n",
    "# BsmtFinType1: Quality of basement finished area\n",
    "# BsmtFinSF1: Type 1 finished square feet\n",
    "# BsmtFinType2: Quality of second finished area (if present)\n",
    "# BsmtFinSF2: Type 2 finished square feet\n",
    "# BsmtUnfSF: Unfinished square feet of basement area\n",
    "# TotalBsmtSF: Total square feet of basement area\n",
    "# Heating: Type of heating\n",
    "# HeatingQC: Heating quality and condition\n",
    "# CentralAir: Central air conditioning\n",
    "# Electrical: Electrical system\n",
    "# 1stFlrSF: First Floor square feet\n",
    "# 2ndFlrSF: Second floor square feet\n",
    "# LowQualFinSF: Low quality finished square feet (all floors)\n",
    "# GrLivArea: Above grade (ground) living area square feet\n",
    "# BsmtFullBath: Basement full bathrooms\n",
    "# BsmtHalfBath: Basement half bathrooms\n",
    "# FullBath: Full bathrooms above grade\n",
    "# HalfBath: Half baths above grade\n",
    "# Bedroom: Number of bedrooms above basement level\n",
    "# Kitchen: Number of kitchens\n",
    "# KitchenQual: Kitchen quality\n",
    "# TotRmsAbvGrd: Total rooms above grade (does not include bathrooms)\n",
    "# Functional: Home functionality rating\n",
    "# Fireplaces: Number of fireplaces\n",
    "# FireplaceQu: Fireplace quality\n",
    "# GarageType: Garage location\n",
    "# GarageYrBlt: Year garage was built\n",
    "# GarageFinish: Interior finish of the garage\n",
    "# GarageCars: Size of garage in car capacity\n",
    "# GarageArea: Size of garage in square feet\n",
    "# GarageQual: Garage quality\n",
    "# GarageCond: Garage condition\n",
    "# PavedDrive: Paved driveway\n",
    "# WoodDeckSF: Wood deck area in square feet\n",
    "# OpenPorchSF: Open porch area in square feet\n",
    "# EnclosedPorch: Enclosed porch area in square feet\n",
    "# 3SsnPorch: Three season porch area in square feet\n",
    "# ScreenPorch: Screen porch area in square feet\n",
    "# PoolArea: Pool area in square feet\n",
    "# PoolQC: Pool quality\n",
    "# Fence: Fence quality\n",
    "# MiscFeature: Miscellaneous feature not covered in other categories\n",
    "# MiscVal: $Value of miscellaneous feature\n",
    "# MoSold: Month Sold\n",
    "# YrSold: Year Sold\n",
    "# SaleType: Type of sale\n",
    "# SaleCondition: Condition of sale\n",
    "\n",
    "#List of columns with null records (1460 = Total records)\n",
    "\n",
    "3   LotFrontage    1201 non-null   float64 (Numeric values, can be replaced with mean value)\n",
    "6   Alley          91 non-null     object \n",
    "25  MasVnrType     1452 non-null   object\n",
    "26  MasVnrArea     1452 non-null   float64 \n",
    "30  BsmtQual       1423 non-null   object \n",
    "31  BsmtCond       1423 non-null   object\n",
    "32  BsmtExposure   1422 non-null   object\n",
    "33  BsmtFinType1   1423 non-null   object\n",
    "35  BsmtFinType2   1422 non-null   object \n",
    "42  Electrical     1459 non-null   object\n",
    "57  FireplaceQu    770 non-null    object \n",
    "58  GarageType     1379 non-null   object \n",
    "59  GarageYrBlt    1379 non-null   float64\n",
    "60  GarageFinish   1379 non-null   object \n",
    "63  GarageQual     1379 non-null   object \n",
    "64  GarageCond     1379 non-null   object\n",
    "72  PoolQC         7 non-null      object \n",
    "73  Fence          281 non-null    object \n",
    "74  MiscFeature    54 non-null     object\n",
    "\n",
    "#Check data in each column and think of logic what we can do to replace null values\n"
   ]
  },
  {
   "cell_type": "code",
   "execution_count": 6,
   "metadata": {},
   "outputs": [
    {
     "data": {
      "text/plain": [
       "60.0     143\n",
       "70.0      70\n",
       "80.0      69\n",
       "50.0      57\n",
       "75.0      53\n",
       "        ... \n",
       "112.0      1\n",
       "138.0      1\n",
       "149.0      1\n",
       "38.0       1\n",
       "111.0      1\n",
       "Name: LotFrontage, Length: 110, dtype: int64"
      ]
     },
     "execution_count": 6,
     "metadata": {},
     "output_type": "execute_result"
    }
   ],
   "source": [
    "house['LotFrontage'].value_counts()"
   ]
  },
  {
   "cell_type": "code",
   "execution_count": 8,
   "metadata": {},
   "outputs": [],
   "source": [
    "house['LotFrontage'].fillna(house['LotFrontage'].mean(),inplace=True)"
   ]
  },
  {
   "cell_type": "code",
   "execution_count": 9,
   "metadata": {},
   "outputs": [
    {
     "data": {
      "text/plain": [
       "Grvl    50\n",
       "Pave    41\n",
       "Name: Alley, dtype: int64"
      ]
     },
     "execution_count": 9,
     "metadata": {},
     "output_type": "execute_result"
    }
   ],
   "source": [
    "house['Alley'].value_counts()"
   ]
  },
  {
   "cell_type": "code",
   "execution_count": 10,
   "metadata": {},
   "outputs": [],
   "source": [
    "#only 2 values are there and have similar counts for both, so it is difficult to get mode value, so dropping column\n",
    "house.drop('Alley',axis=1, inplace=True)"
   ]
  },
  {
   "cell_type": "code",
   "execution_count": 11,
   "metadata": {},
   "outputs": [
    {
     "data": {
      "text/plain": [
       "None       864\n",
       "BrkFace    445\n",
       "Stone      128\n",
       "BrkCmn      15\n",
       "Name: MasVnrType, dtype: int64"
      ]
     },
     "execution_count": 11,
     "metadata": {},
     "output_type": "execute_result"
    }
   ],
   "source": [
    "house['MasVnrType'].value_counts()"
   ]
  },
  {
   "cell_type": "code",
   "execution_count": 14,
   "metadata": {},
   "outputs": [],
   "source": [
    "#Replacing with mode value\n",
    "house['MasVnrType'].fillna(house['MasVnrType'].mode(),inplace=True)"
   ]
  },
  {
   "cell_type": "code",
   "execution_count": 15,
   "metadata": {},
   "outputs": [
    {
     "data": {
      "text/plain": [
       "0.0      861\n",
       "108.0      8\n",
       "72.0       8\n",
       "180.0      8\n",
       "16.0       7\n",
       "        ... \n",
       "31.0       1\n",
       "366.0      1\n",
       "528.0      1\n",
       "894.0      1\n",
       "415.0      1\n",
       "Name: MasVnrArea, Length: 327, dtype: int64"
      ]
     },
     "execution_count": 15,
     "metadata": {},
     "output_type": "execute_result"
    }
   ],
   "source": [
    "house['MasVnrArea'].value_counts()"
   ]
  },
  {
   "cell_type": "code",
   "execution_count": 17,
   "metadata": {},
   "outputs": [
    {
     "data": {
      "text/plain": [
       "103.68526170798899"
      ]
     },
     "execution_count": 17,
     "metadata": {},
     "output_type": "execute_result"
    }
   ],
   "source": [
    "house['MasVnrArea'].mean()"
   ]
  },
  {
   "cell_type": "code",
   "execution_count": 18,
   "metadata": {},
   "outputs": [
    {
     "data": {
      "text/plain": [
       "0    0.0\n",
       "dtype: float64"
      ]
     },
     "execution_count": 18,
     "metadata": {},
     "output_type": "execute_result"
    }
   ],
   "source": [
    "house['MasVnrArea'].mode()"
   ]
  },
  {
   "cell_type": "code",
   "execution_count": 19,
   "metadata": {},
   "outputs": [],
   "source": [
    "#Majority record have value 0 and mean doesn't seem related to most of the values, so replacing null values with mode value\n",
    "house['MasVnrArea'].fillna(house['MasVnrArea'].mode(),inplace=True)"
   ]
  },
  {
   "cell_type": "code",
   "execution_count": 20,
   "metadata": {},
   "outputs": [
    {
     "data": {
      "text/plain": [
       "TA    649\n",
       "Gd    618\n",
       "Ex    121\n",
       "Fa     35\n",
       "Name: BsmtQual, dtype: int64"
      ]
     },
     "execution_count": 20,
     "metadata": {},
     "output_type": "execute_result"
    }
   ],
   "source": [
    "house['BsmtQual'].value_counts()"
   ]
  },
  {
   "cell_type": "code",
   "execution_count": 26,
   "metadata": {},
   "outputs": [],
   "source": [
    "#2 values are associated with majority of records, but we don't have any relation with other columns related to basement, so replacing it with mode value\n",
    "house['BsmtQual'].fillna(house['BsmtQual'].mode(),inplace=True)"
   ]
  },
  {
   "cell_type": "code",
   "execution_count": 21,
   "metadata": {},
   "outputs": [
    {
     "data": {
      "text/plain": [
       "TA    1311\n",
       "Gd      65\n",
       "Fa      45\n",
       "Po       2\n",
       "Name: BsmtCond, dtype: int64"
      ]
     },
     "execution_count": 21,
     "metadata": {},
     "output_type": "execute_result"
    }
   ],
   "source": [
    "house['BsmtCond'].value_counts()"
   ]
  },
  {
   "cell_type": "code",
   "execution_count": 25,
   "metadata": {},
   "outputs": [],
   "source": [
    "#Replacing with mode value, since majority of records are pointing to 'TA'\n",
    "house['BsmtCond'].fillna(house['BsmtCond'].mode(),inplace=True)"
   ]
  },
  {
   "cell_type": "code",
   "execution_count": 22,
   "metadata": {},
   "outputs": [
    {
     "data": {
      "text/plain": [
       "No    953\n",
       "Av    221\n",
       "Gd    134\n",
       "Mn    114\n",
       "Name: BsmtExposure, dtype: int64"
      ]
     },
     "execution_count": 22,
     "metadata": {},
     "output_type": "execute_result"
    }
   ],
   "source": [
    "house['BsmtExposure'].value_counts()"
   ]
  },
  {
   "cell_type": "code",
   "execution_count": 27,
   "metadata": {},
   "outputs": [],
   "source": [
    "#Replace with mode\n",
    "house['BsmtExposure'].fillna(house['BsmtExposure'].mode(),inplace=True)"
   ]
  },
  {
   "cell_type": "code",
   "execution_count": 23,
   "metadata": {},
   "outputs": [
    {
     "data": {
      "text/plain": [
       "Unf    430\n",
       "GLQ    418\n",
       "ALQ    220\n",
       "BLQ    148\n",
       "Rec    133\n",
       "LwQ     74\n",
       "Name: BsmtFinType1, dtype: int64"
      ]
     },
     "execution_count": 23,
     "metadata": {},
     "output_type": "execute_result"
    }
   ],
   "source": [
    "house['BsmtFinType1'].value_counts()"
   ]
  },
  {
   "cell_type": "code",
   "execution_count": 24,
   "metadata": {},
   "outputs": [
    {
     "data": {
      "text/plain": [
       "Unf    1256\n",
       "Rec      54\n",
       "LwQ      46\n",
       "BLQ      33\n",
       "ALQ      19\n",
       "GLQ      14\n",
       "Name: BsmtFinType2, dtype: int64"
      ]
     },
     "execution_count": 24,
     "metadata": {},
     "output_type": "execute_result"
    }
   ],
   "source": [
    "house['BsmtFinType2'].value_counts()"
   ]
  },
  {
   "cell_type": "code",
   "execution_count": 28,
   "metadata": {},
   "outputs": [],
   "source": [
    "house['BsmtFinType1'].fillna(house['BsmtFinType1'].mode(),inplace=True)\n",
    "house['BsmtFinType2'].fillna(house['BsmtFinType2'].mode(),inplace=True)"
   ]
  },
  {
   "cell_type": "code",
   "execution_count": 30,
   "metadata": {},
   "outputs": [
    {
     "data": {
      "text/plain": [
       "SBrkr    1334\n",
       "FuseA      94\n",
       "FuseF      27\n",
       "FuseP       3\n",
       "Mix         1\n",
       "Name: Electrical, dtype: int64"
      ]
     },
     "execution_count": 30,
     "metadata": {},
     "output_type": "execute_result"
    }
   ],
   "source": [
    "house['Electrical'].value_counts()"
   ]
  },
  {
   "cell_type": "code",
   "execution_count": 31,
   "metadata": {},
   "outputs": [],
   "source": [
    "house['Electrical'].fillna(house['Electrical'].mode(),inplace=True)"
   ]
  },
  {
   "cell_type": "code",
   "execution_count": 32,
   "metadata": {},
   "outputs": [
    {
     "data": {
      "text/plain": [
       "Gd    380\n",
       "TA    313\n",
       "Fa     33\n",
       "Ex     24\n",
       "Po     20\n",
       "Name: FireplaceQu, dtype: int64"
      ]
     },
     "execution_count": 32,
     "metadata": {},
     "output_type": "execute_result"
    }
   ],
   "source": [
    "house['FireplaceQu'].value_counts()"
   ]
  },
  {
   "cell_type": "code",
   "execution_count": 33,
   "metadata": {},
   "outputs": [],
   "source": [
    "#Fireplace quality (Maybe place doesn't have a fireplace, so replacing it with 'NA')\n",
    "house['FireplaceQu'].fillna('Na',inplace=True)"
   ]
  },
  {
   "cell_type": "code",
   "execution_count": 53,
   "metadata": {},
   "outputs": [
    {
     "data": {
      "text/plain": [
       "0       0\n",
       "5       0\n",
       "10      0\n",
       "12      0\n",
       "15      0\n",
       "       ..\n",
       "1452    0\n",
       "1453    0\n",
       "1454    0\n",
       "1458    0\n",
       "1459    0\n",
       "Name: Fireplaces, Length: 690, dtype: int64"
      ]
     },
     "execution_count": 53,
     "metadata": {},
     "output_type": "execute_result"
    }
   ],
   "source": [
    "house[house['FireplaceQu'] == 'Na']['Fireplaces']"
   ]
  },
  {
   "cell_type": "code",
   "execution_count": 37,
   "metadata": {},
   "outputs": [
    {
     "data": {
      "text/plain": [
       "Attchd     870\n",
       "Detchd     387\n",
       "BuiltIn     88\n",
       "Basment     19\n",
       "CarPort      9\n",
       "2Types       6\n",
       "Name: GarageType, dtype: int64"
      ]
     },
     "execution_count": 37,
     "metadata": {},
     "output_type": "execute_result"
    }
   ],
   "source": [
    "house['GarageType'].value_counts()"
   ]
  },
  {
   "cell_type": "code",
   "execution_count": 49,
   "metadata": {},
   "outputs": [
    {
     "data": {
      "text/plain": [
       "39      NaN\n",
       "48      NaN\n",
       "78      NaN\n",
       "88      NaN\n",
       "89      NaN\n",
       "       ... \n",
       "1349    NaN\n",
       "1407    NaN\n",
       "1449    NaN\n",
       "1450    NaN\n",
       "1453    NaN\n",
       "Name: GarageQual, Length: 81, dtype: object"
      ]
     },
     "execution_count": 49,
     "metadata": {},
     "output_type": "execute_result"
    }
   ],
   "source": [
    "house[house['GarageType'].isnull()]['GarageQual']"
   ]
  },
  {
   "cell_type": "code",
   "execution_count": 38,
   "metadata": {},
   "outputs": [
    {
     "data": {
      "text/plain": [
       "2005.0    65\n",
       "2006.0    59\n",
       "2004.0    53\n",
       "2003.0    50\n",
       "2007.0    49\n",
       "          ..\n",
       "1906.0     1\n",
       "1908.0     1\n",
       "1933.0     1\n",
       "1900.0     1\n",
       "1927.0     1\n",
       "Name: GarageYrBlt, Length: 97, dtype: int64"
      ]
     },
     "execution_count": 38,
     "metadata": {},
     "output_type": "execute_result"
    }
   ],
   "source": [
    "house['GarageYrBlt'].value_counts() "
   ]
  },
  {
   "cell_type": "code",
   "execution_count": 39,
   "metadata": {},
   "outputs": [
    {
     "data": {
      "text/plain": [
       "Unf    605\n",
       "RFn    422\n",
       "Fin    352\n",
       "Name: GarageFinish, dtype: int64"
      ]
     },
     "execution_count": 39,
     "metadata": {},
     "output_type": "execute_result"
    }
   ],
   "source": [
    "house['GarageFinish'].value_counts()"
   ]
  },
  {
   "cell_type": "code",
   "execution_count": 40,
   "metadata": {},
   "outputs": [
    {
     "data": {
      "text/plain": [
       "TA    1311\n",
       "Fa      48\n",
       "Gd      14\n",
       "Po       3\n",
       "Ex       3\n",
       "Name: GarageQual, dtype: int64"
      ]
     },
     "execution_count": 40,
     "metadata": {},
     "output_type": "execute_result"
    }
   ],
   "source": [
    "house['GarageQual'].value_counts()"
   ]
  },
  {
   "cell_type": "code",
   "execution_count": 41,
   "metadata": {},
   "outputs": [
    {
     "data": {
      "text/plain": [
       "TA    1326\n",
       "Fa      35\n",
       "Gd       9\n",
       "Po       7\n",
       "Ex       2\n",
       "Name: GarageCond, dtype: int64"
      ]
     },
     "execution_count": 41,
     "metadata": {},
     "output_type": "execute_result"
    }
   ],
   "source": [
    "house['GarageCond'].value_counts()"
   ]
  },
  {
   "cell_type": "code",
   "execution_count": 55,
   "metadata": {},
   "outputs": [],
   "source": [
    "house['GarageType'].fillna('Na',inplace=True)\n",
    "house['GarageYrBlt'].fillna(9999,inplace=True)\n",
    "house['GarageFinish'].fillna('Na',inplace=True)\n",
    "house['GarageQual'].fillna('Na',inplace=True)\n",
    "house['GarageCond'].fillna('Na',inplace=True)"
   ]
  },
  {
   "cell_type": "code",
   "execution_count": 56,
   "metadata": {},
   "outputs": [
    {
     "data": {
      "text/plain": [
       "Gd    3\n",
       "Fa    2\n",
       "Ex    2\n",
       "Name: PoolQC, dtype: int64"
      ]
     },
     "execution_count": 56,
     "metadata": {},
     "output_type": "execute_result"
    }
   ],
   "source": [
    "house['PoolQC'].value_counts()"
   ]
  },
  {
   "cell_type": "code",
   "execution_count": 57,
   "metadata": {},
   "outputs": [
    {
     "data": {
      "text/plain": [
       "0       0\n",
       "1       0\n",
       "2       0\n",
       "3       0\n",
       "4       0\n",
       "       ..\n",
       "1455    0\n",
       "1456    0\n",
       "1457    0\n",
       "1458    0\n",
       "1459    0\n",
       "Name: PoolArea, Length: 1453, dtype: int64"
      ]
     },
     "execution_count": 57,
     "metadata": {},
     "output_type": "execute_result"
    }
   ],
   "source": [
    "house[house['PoolQC'].isnull()]['PoolArea']"
   ]
  },
  {
   "cell_type": "code",
   "execution_count": 58,
   "metadata": {},
   "outputs": [],
   "source": [
    "#Since there is no pool, poolQC will be 'Na'. Also replacing values with numbers\n",
    "def poolQualityNum(s1):\n",
    "    if (s1=='Gd'):\n",
    "        return 3\n",
    "    elif (s1=='Fa'):\n",
    "        return 2\n",
    "    elif (s1=='Ex'):\n",
    "        return 1\n",
    "    else:\n",
    "        return 0\n",
    "    \n",
    "house['PoolQC']=house['PoolQC'].apply(poolQualityNum)"
   ]
  },
  {
   "cell_type": "code",
   "execution_count": 59,
   "metadata": {},
   "outputs": [
    {
     "data": {
      "text/plain": [
       "MnPrv    157\n",
       "GdPrv     59\n",
       "GdWo      54\n",
       "MnWw      11\n",
       "Name: Fence, dtype: int64"
      ]
     },
     "execution_count": 59,
     "metadata": {},
     "output_type": "execute_result"
    }
   ],
   "source": [
    "house['Fence'].value_counts()"
   ]
  },
  {
   "cell_type": "code",
   "execution_count": 60,
   "metadata": {},
   "outputs": [],
   "source": [
    "house['Fence'].fillna('Na',inplace=True)"
   ]
  },
  {
   "cell_type": "code",
   "execution_count": 61,
   "metadata": {},
   "outputs": [
    {
     "data": {
      "text/plain": [
       "Shed    49\n",
       "Othr     2\n",
       "Gar2     2\n",
       "TenC     1\n",
       "Name: MiscFeature, dtype: int64"
      ]
     },
     "execution_count": 61,
     "metadata": {},
     "output_type": "execute_result"
    }
   ],
   "source": [
    "house['MiscFeature'].value_counts()"
   ]
  },
  {
   "cell_type": "code",
   "execution_count": 77,
   "metadata": {},
   "outputs": [
    {
     "data": {
      "text/plain": [
       "0       NaN\n",
       "1       NaN\n",
       "2       NaN\n",
       "3       NaN\n",
       "4       NaN\n",
       "       ... \n",
       "1454    NaN\n",
       "1455    NaN\n",
       "1456    NaN\n",
       "1458    NaN\n",
       "1459    NaN\n",
       "Name: MiscFeature, Length: 1408, dtype: object"
      ]
     },
     "execution_count": 77,
     "metadata": {},
     "output_type": "execute_result"
    }
   ],
   "source": [
    "house[house['MiscVal']==0]['MiscFeature']"
   ]
  },
  {
   "cell_type": "code",
   "execution_count": 66,
   "metadata": {},
   "outputs": [
    {
     "data": {
      "text/plain": [
       "0        1408\n",
       "400        11\n",
       "500         8\n",
       "700         5\n",
       "450         4\n",
       "600         4\n",
       "2000        4\n",
       "480         2\n",
       "1200        2\n",
       "2500        1\n",
       "350         1\n",
       "560         1\n",
       "54          1\n",
       "620         1\n",
       "8300        1\n",
       "800         1\n",
       "1150        1\n",
       "15500       1\n",
       "1300        1\n",
       "1400        1\n",
       "3500        1\n",
       "Name: MiscVal, dtype: int64"
      ]
     },
     "execution_count": 66,
     "metadata": {},
     "output_type": "execute_result"
    }
   ],
   "source": [
    "house['MiscVal'].value_counts()"
   ]
  },
  {
   "cell_type": "code",
   "execution_count": 78,
   "metadata": {},
   "outputs": [],
   "source": [
    "house['MiscFeature'].fillna('Na',inplace=True)"
   ]
  },
  {
   "cell_type": "code",
   "execution_count": 79,
   "metadata": {},
   "outputs": [
    {
     "name": "stdout",
     "output_type": "stream",
     "text": [
      "<class 'pandas.core.frame.DataFrame'>\n",
      "RangeIndex: 1460 entries, 0 to 1459\n",
      "Data columns (total 80 columns):\n",
      " #   Column         Non-Null Count  Dtype  \n",
      "---  ------         --------------  -----  \n",
      " 0   Id             1460 non-null   int64  \n",
      " 1   MSSubClass     1460 non-null   int64  \n",
      " 2   MSZoning       1460 non-null   object \n",
      " 3   LotFrontage    1460 non-null   float64\n",
      " 4   LotArea        1460 non-null   int64  \n",
      " 5   Street         1460 non-null   object \n",
      " 6   LotShape       1460 non-null   object \n",
      " 7   LandContour    1460 non-null   object \n",
      " 8   Utilities      1460 non-null   object \n",
      " 9   LotConfig      1460 non-null   object \n",
      " 10  LandSlope      1460 non-null   object \n",
      " 11  Neighborhood   1460 non-null   object \n",
      " 12  Condition1     1460 non-null   object \n",
      " 13  Condition2     1460 non-null   object \n",
      " 14  BldgType       1460 non-null   object \n",
      " 15  HouseStyle     1460 non-null   object \n",
      " 16  OverallQual    1460 non-null   int64  \n",
      " 17  OverallCond    1460 non-null   int64  \n",
      " 18  YearBuilt      1460 non-null   int64  \n",
      " 19  YearRemodAdd   1460 non-null   int64  \n",
      " 20  RoofStyle      1460 non-null   object \n",
      " 21  RoofMatl       1460 non-null   object \n",
      " 22  Exterior1st    1460 non-null   object \n",
      " 23  Exterior2nd    1460 non-null   object \n",
      " 24  MasVnrType     1452 non-null   object \n",
      " 25  MasVnrArea     1452 non-null   float64\n",
      " 26  ExterQual      1460 non-null   object \n",
      " 27  ExterCond      1460 non-null   object \n",
      " 28  Foundation     1460 non-null   object \n",
      " 29  BsmtQual       1423 non-null   object \n",
      " 30  BsmtCond       1423 non-null   object \n",
      " 31  BsmtExposure   1422 non-null   object \n",
      " 32  BsmtFinType1   1423 non-null   object \n",
      " 33  BsmtFinSF1     1460 non-null   int64  \n",
      " 34  BsmtFinType2   1422 non-null   object \n",
      " 35  BsmtFinSF2     1460 non-null   int64  \n",
      " 36  BsmtUnfSF      1460 non-null   int64  \n",
      " 37  TotalBsmtSF    1460 non-null   int64  \n",
      " 38  Heating        1460 non-null   object \n",
      " 39  HeatingQC      1460 non-null   object \n",
      " 40  CentralAir     1460 non-null   object \n",
      " 41  Electrical     1459 non-null   object \n",
      " 42  1stFlrSF       1460 non-null   int64  \n",
      " 43  2ndFlrSF       1460 non-null   int64  \n",
      " 44  LowQualFinSF   1460 non-null   int64  \n",
      " 45  GrLivArea      1460 non-null   int64  \n",
      " 46  BsmtFullBath   1460 non-null   int64  \n",
      " 47  BsmtHalfBath   1460 non-null   int64  \n",
      " 48  FullBath       1460 non-null   int64  \n",
      " 49  HalfBath       1460 non-null   int64  \n",
      " 50  BedroomAbvGr   1460 non-null   int64  \n",
      " 51  KitchenAbvGr   1460 non-null   int64  \n",
      " 52  KitchenQual    1460 non-null   object \n",
      " 53  TotRmsAbvGrd   1460 non-null   int64  \n",
      " 54  Functional     1460 non-null   object \n",
      " 55  Fireplaces     1460 non-null   int64  \n",
      " 56  FireplaceQu    1460 non-null   object \n",
      " 57  GarageType     1460 non-null   object \n",
      " 58  GarageYrBlt    1460 non-null   float64\n",
      " 59  GarageFinish   1460 non-null   object \n",
      " 60  GarageCars     1460 non-null   int64  \n",
      " 61  GarageArea     1460 non-null   int64  \n",
      " 62  GarageQual     1460 non-null   object \n",
      " 63  GarageCond     1460 non-null   object \n",
      " 64  PavedDrive     1460 non-null   object \n",
      " 65  WoodDeckSF     1460 non-null   int64  \n",
      " 66  OpenPorchSF    1460 non-null   int64  \n",
      " 67  EnclosedPorch  1460 non-null   int64  \n",
      " 68  3SsnPorch      1460 non-null   int64  \n",
      " 69  ScreenPorch    1460 non-null   int64  \n",
      " 70  PoolArea       1460 non-null   int64  \n",
      " 71  PoolQC         1460 non-null   int64  \n",
      " 72  Fence          1460 non-null   object \n",
      " 73  MiscFeature    1460 non-null   object \n",
      " 74  MiscVal        1460 non-null   int64  \n",
      " 75  MoSold         1460 non-null   int64  \n",
      " 76  YrSold         1460 non-null   int64  \n",
      " 77  SaleType       1460 non-null   object \n",
      " 78  SaleCondition  1460 non-null   object \n",
      " 79  SalePrice      1460 non-null   int64  \n",
      "dtypes: float64(3), int64(36), object(41)\n",
      "memory usage: 912.6+ KB\n"
     ]
    }
   ],
   "source": [
    "house.info()"
   ]
  },
  {
   "cell_type": "code",
   "execution_count": 82,
   "metadata": {},
   "outputs": [
    {
     "data": {
      "text/plain": [
       "Id                    1\n",
       "MSSubClass           60\n",
       "MSZoning             RL\n",
       "LotFrontage        65.0\n",
       "LotArea            8450\n",
       "                  ...  \n",
       "MoSold                2\n",
       "YrSold             2008\n",
       "SaleType             WD\n",
       "SaleCondition    Normal\n",
       "SalePrice        208500\n",
       "Name: 0, Length: 80, dtype: object"
      ]
     },
     "execution_count": 82,
     "metadata": {},
     "output_type": "execute_result"
    }
   ],
   "source": [
    "house.iloc[0,:]"
   ]
  },
  {
   "cell_type": "code",
   "execution_count": 83,
   "metadata": {},
   "outputs": [],
   "source": [
    "from sklearn.preprocessing import LabelEncoder"
   ]
  },
  {
   "cell_type": "code",
   "execution_count": 85,
   "metadata": {},
   "outputs": [
    {
     "data": {
      "text/plain": [
       "Index(['Id', 'MSSubClass', 'MSZoning', 'LotFrontage', 'LotArea', 'Street',\n",
       "       'LotShape', 'LandContour', 'Utilities', 'LotConfig', 'LandSlope',\n",
       "       'Neighborhood', 'Condition1', 'Condition2', 'BldgType', 'HouseStyle',\n",
       "       'OverallQual', 'OverallCond', 'YearBuilt', 'YearRemodAdd', 'RoofStyle',\n",
       "       'RoofMatl', 'Exterior1st', 'Exterior2nd', 'MasVnrType', 'MasVnrArea',\n",
       "       'ExterQual', 'ExterCond', 'Foundation', 'BsmtQual', 'BsmtCond',\n",
       "       'BsmtExposure', 'BsmtFinType1', 'BsmtFinSF1', 'BsmtFinType2',\n",
       "       'BsmtFinSF2', 'BsmtUnfSF', 'TotalBsmtSF', 'Heating', 'HeatingQC',\n",
       "       'CentralAir', 'Electrical', '1stFlrSF', '2ndFlrSF', 'LowQualFinSF',\n",
       "       'GrLivArea', 'BsmtFullBath', 'BsmtHalfBath', 'FullBath', 'HalfBath',\n",
       "       'BedroomAbvGr', 'KitchenAbvGr', 'KitchenQual', 'TotRmsAbvGrd',\n",
       "       'Functional', 'Fireplaces', 'FireplaceQu', 'GarageType', 'GarageYrBlt',\n",
       "       'GarageFinish', 'GarageCars', 'GarageArea', 'GarageQual', 'GarageCond',\n",
       "       'PavedDrive', 'WoodDeckSF', 'OpenPorchSF', 'EnclosedPorch', '3SsnPorch',\n",
       "       'ScreenPorch', 'PoolArea', 'PoolQC', 'Fence', 'MiscFeature', 'MiscVal',\n",
       "       'MoSold', 'YrSold', 'SaleType', 'SaleCondition', 'SalePrice'],\n",
       "      dtype='object')"
      ]
     },
     "execution_count": 85,
     "metadata": {},
     "output_type": "execute_result"
    }
   ],
   "source": [
    "house.columns"
   ]
  },
  {
   "cell_type": "code",
   "execution_count": 149,
   "metadata": {},
   "outputs": [
    {
     "data": {
      "text/plain": [
       "Normal     1198\n",
       "Partial     125\n",
       "Abnorml     101\n",
       "Family       20\n",
       "Alloca       12\n",
       "AdjLand       4\n",
       "Name: SaleCondition, dtype: int64"
      ]
     },
     "execution_count": 149,
     "metadata": {},
     "output_type": "execute_result"
    }
   ],
   "source": [
    "house['SaleCondition'].value_counts()"
   ]
  },
  {
   "cell_type": "code",
   "execution_count": 94,
   "metadata": {},
   "outputs": [],
   "source": [
    "x=house.iloc[:,1:5]"
   ]
  },
  {
   "cell_type": "code",
   "execution_count": 151,
   "metadata": {},
   "outputs": [],
   "source": [
    "x['BldgType']=house['BldgType']\n",
    "x['HouseStyle']=house['HouseStyle']\n",
    "x['OverallQual']=house['OverallQual']\n",
    "x['OverallCond']=house['OverallCond']\n",
    "x['MasVnrArea']=house['MasVnrArea']\n",
    "x['Foundation']=house['Foundation']\n",
    "x['BsmtUnfSF']=house['BsmtUnfSF']\n",
    "x['TotalBsmtSF']=house['TotalBsmtSF']\n",
    "x['CentralAir']=house['CentralAir']\n",
    "x['Electrical']=house['Electrical']\n",
    "x['1stFlrSF']=house['1stFlrSF']\n",
    "x['2ndFlrSF']=house['2ndFlrSF']\n",
    "x['GrLivArea']=house['GrLivArea']\n",
    "x['BsmtFullBath']=house['BsmtFullBath']\n",
    "x['BsmtHalfBath']=house['BsmtHalfBath']\n",
    "x['FullBath']=house['FullBath']\n",
    "x['HalfBath']=house['HalfBath']\n",
    "x['BedroomAbvGr']=house['BedroomAbvGr']\n",
    "x['KitchenAbvGr']=house['KitchenAbvGr']\n",
    "x['TotRmsAbvGrd']=house['TotRmsAbvGrd']\n",
    "x['Fireplaces']=house['Fireplaces']\n",
    "x['FireplaceQu']=house['FireplaceQu']\n",
    "x['GarageArea']=house['GarageArea']\n",
    "x['WoodDeckSF']=house['WoodDeckSF']\n",
    "x['OpenPorchSF']=house['OpenPorchSF']\n",
    "x['EnclosedPorch']=house['EnclosedPorch']\n",
    "x['3SsnPorch']=house['3SsnPorch']\n",
    "x['ScreenPorch']=house['ScreenPorch']\n",
    "x['PoolArea']=house['PoolArea']\n",
    "x['MiscVal']=house['MiscVal']\n",
    "x['SaleType']=house['SaleType']\n",
    "x['SaleCondition']=house['SaleCondition']"
   ]
  },
  {
   "cell_type": "code",
   "execution_count": 154,
   "metadata": {},
   "outputs": [
    {
     "data": {
      "text/html": [
       "<div>\n",
       "<style scoped>\n",
       "    .dataframe tbody tr th:only-of-type {\n",
       "        vertical-align: middle;\n",
       "    }\n",
       "\n",
       "    .dataframe tbody tr th {\n",
       "        vertical-align: top;\n",
       "    }\n",
       "\n",
       "    .dataframe thead th {\n",
       "        text-align: right;\n",
       "    }\n",
       "</style>\n",
       "<table border=\"1\" class=\"dataframe\">\n",
       "  <thead>\n",
       "    <tr style=\"text-align: right;\">\n",
       "      <th></th>\n",
       "      <th>MSSubClass</th>\n",
       "      <th>MSZoning</th>\n",
       "      <th>LotFrontage</th>\n",
       "      <th>LotArea</th>\n",
       "      <th>BldgType</th>\n",
       "      <th>HouseStyle</th>\n",
       "      <th>OverallQual</th>\n",
       "      <th>OverallCond</th>\n",
       "      <th>MasVnrArea</th>\n",
       "      <th>Foundation</th>\n",
       "      <th>...</th>\n",
       "      <th>GarageArea</th>\n",
       "      <th>WoodDeckSF</th>\n",
       "      <th>OpenPorchSF</th>\n",
       "      <th>EnclosedPorch</th>\n",
       "      <th>3SsnPorch</th>\n",
       "      <th>ScreenPorch</th>\n",
       "      <th>PoolArea</th>\n",
       "      <th>MiscVal</th>\n",
       "      <th>SaleType</th>\n",
       "      <th>SaleCondition</th>\n",
       "    </tr>\n",
       "  </thead>\n",
       "  <tbody>\n",
       "    <tr>\n",
       "      <th>0</th>\n",
       "      <td>60</td>\n",
       "      <td>RL</td>\n",
       "      <td>65.0</td>\n",
       "      <td>8450</td>\n",
       "      <td>1Fam</td>\n",
       "      <td>2Story</td>\n",
       "      <td>7</td>\n",
       "      <td>5</td>\n",
       "      <td>196.0</td>\n",
       "      <td>PConc</td>\n",
       "      <td>...</td>\n",
       "      <td>548</td>\n",
       "      <td>0</td>\n",
       "      <td>61</td>\n",
       "      <td>0</td>\n",
       "      <td>0</td>\n",
       "      <td>0</td>\n",
       "      <td>0</td>\n",
       "      <td>0</td>\n",
       "      <td>WD</td>\n",
       "      <td>Normal</td>\n",
       "    </tr>\n",
       "    <tr>\n",
       "      <th>1</th>\n",
       "      <td>20</td>\n",
       "      <td>RL</td>\n",
       "      <td>80.0</td>\n",
       "      <td>9600</td>\n",
       "      <td>1Fam</td>\n",
       "      <td>1Story</td>\n",
       "      <td>6</td>\n",
       "      <td>8</td>\n",
       "      <td>0.0</td>\n",
       "      <td>CBlock</td>\n",
       "      <td>...</td>\n",
       "      <td>460</td>\n",
       "      <td>298</td>\n",
       "      <td>0</td>\n",
       "      <td>0</td>\n",
       "      <td>0</td>\n",
       "      <td>0</td>\n",
       "      <td>0</td>\n",
       "      <td>0</td>\n",
       "      <td>WD</td>\n",
       "      <td>Normal</td>\n",
       "    </tr>\n",
       "    <tr>\n",
       "      <th>2</th>\n",
       "      <td>60</td>\n",
       "      <td>RL</td>\n",
       "      <td>68.0</td>\n",
       "      <td>11250</td>\n",
       "      <td>1Fam</td>\n",
       "      <td>2Story</td>\n",
       "      <td>7</td>\n",
       "      <td>5</td>\n",
       "      <td>162.0</td>\n",
       "      <td>PConc</td>\n",
       "      <td>...</td>\n",
       "      <td>608</td>\n",
       "      <td>0</td>\n",
       "      <td>42</td>\n",
       "      <td>0</td>\n",
       "      <td>0</td>\n",
       "      <td>0</td>\n",
       "      <td>0</td>\n",
       "      <td>0</td>\n",
       "      <td>WD</td>\n",
       "      <td>Normal</td>\n",
       "    </tr>\n",
       "    <tr>\n",
       "      <th>3</th>\n",
       "      <td>70</td>\n",
       "      <td>RL</td>\n",
       "      <td>60.0</td>\n",
       "      <td>9550</td>\n",
       "      <td>1Fam</td>\n",
       "      <td>2Story</td>\n",
       "      <td>7</td>\n",
       "      <td>5</td>\n",
       "      <td>0.0</td>\n",
       "      <td>BrkTil</td>\n",
       "      <td>...</td>\n",
       "      <td>642</td>\n",
       "      <td>0</td>\n",
       "      <td>35</td>\n",
       "      <td>272</td>\n",
       "      <td>0</td>\n",
       "      <td>0</td>\n",
       "      <td>0</td>\n",
       "      <td>0</td>\n",
       "      <td>WD</td>\n",
       "      <td>Abnorml</td>\n",
       "    </tr>\n",
       "    <tr>\n",
       "      <th>4</th>\n",
       "      <td>60</td>\n",
       "      <td>RL</td>\n",
       "      <td>84.0</td>\n",
       "      <td>14260</td>\n",
       "      <td>1Fam</td>\n",
       "      <td>2Story</td>\n",
       "      <td>8</td>\n",
       "      <td>5</td>\n",
       "      <td>350.0</td>\n",
       "      <td>PConc</td>\n",
       "      <td>...</td>\n",
       "      <td>836</td>\n",
       "      <td>192</td>\n",
       "      <td>84</td>\n",
       "      <td>0</td>\n",
       "      <td>0</td>\n",
       "      <td>0</td>\n",
       "      <td>0</td>\n",
       "      <td>0</td>\n",
       "      <td>WD</td>\n",
       "      <td>Normal</td>\n",
       "    </tr>\n",
       "  </tbody>\n",
       "</table>\n",
       "<p>5 rows × 36 columns</p>\n",
       "</div>"
      ],
      "text/plain": [
       "   MSSubClass MSZoning  LotFrontage  LotArea BldgType HouseStyle  OverallQual  \\\n",
       "0          60       RL         65.0     8450     1Fam     2Story            7   \n",
       "1          20       RL         80.0     9600     1Fam     1Story            6   \n",
       "2          60       RL         68.0    11250     1Fam     2Story            7   \n",
       "3          70       RL         60.0     9550     1Fam     2Story            7   \n",
       "4          60       RL         84.0    14260     1Fam     2Story            8   \n",
       "\n",
       "   OverallCond  MasVnrArea Foundation  ...  GarageArea  WoodDeckSF  \\\n",
       "0            5       196.0      PConc  ...         548           0   \n",
       "1            8         0.0     CBlock  ...         460         298   \n",
       "2            5       162.0      PConc  ...         608           0   \n",
       "3            5         0.0     BrkTil  ...         642           0   \n",
       "4            5       350.0      PConc  ...         836         192   \n",
       "\n",
       "  OpenPorchSF EnclosedPorch  3SsnPorch  ScreenPorch  PoolArea  MiscVal  \\\n",
       "0          61             0          0            0         0        0   \n",
       "1           0             0          0            0         0        0   \n",
       "2          42             0          0            0         0        0   \n",
       "3          35           272          0            0         0        0   \n",
       "4          84             0          0            0         0        0   \n",
       "\n",
       "   SaleType  SaleCondition  \n",
       "0        WD         Normal  \n",
       "1        WD         Normal  \n",
       "2        WD         Normal  \n",
       "3        WD        Abnorml  \n",
       "4        WD         Normal  \n",
       "\n",
       "[5 rows x 36 columns]"
      ]
     },
     "execution_count": 154,
     "metadata": {},
     "output_type": "execute_result"
    }
   ],
   "source": [
    "ind_labelEnc= LabelEncoder()\n",
    "#independ['Sex']=ind_labelEnc.fit_transform(independ['Sex'])\n",
    "x.head()"
   ]
  },
  {
   "cell_type": "code",
   "execution_count": 157,
   "metadata": {},
   "outputs": [
    {
     "name": "stdout",
     "output_type": "stream",
     "text": [
      "<class 'pandas.core.frame.DataFrame'>\n",
      "RangeIndex: 1460 entries, 0 to 1459\n",
      "Data columns (total 36 columns):\n",
      " #   Column         Non-Null Count  Dtype  \n",
      "---  ------         --------------  -----  \n",
      " 0   MSSubClass     1460 non-null   int64  \n",
      " 1   MSZoning       1460 non-null   int32  \n",
      " 2   LotFrontage    1460 non-null   float64\n",
      " 3   LotArea        1460 non-null   int64  \n",
      " 4   BldgType       1460 non-null   int32  \n",
      " 5   HouseStyle     1460 non-null   int32  \n",
      " 6   OverallQual    1460 non-null   int64  \n",
      " 7   OverallCond    1460 non-null   int64  \n",
      " 8   MasVnrArea     1452 non-null   float64\n",
      " 9   Foundation     1460 non-null   int32  \n",
      " 10  BsmtUnfSF      1460 non-null   int64  \n",
      " 11  TotalBsmtSF    1460 non-null   int64  \n",
      " 12  CentralAir     1460 non-null   int32  \n",
      " 13  Electrical     1460 non-null   int32  \n",
      " 14  1stFlrSF       1460 non-null   int64  \n",
      " 15  2ndFlrSF       1460 non-null   int64  \n",
      " 16  GrLivArea      1460 non-null   int64  \n",
      " 17  BsmtFullBath   1460 non-null   int64  \n",
      " 18  BsmtHalfBath   1460 non-null   int64  \n",
      " 19  FullBath       1460 non-null   int64  \n",
      " 20  HalfBath       1460 non-null   int64  \n",
      " 21  BedroomAbvGr   1460 non-null   int64  \n",
      " 22  KitchenAbvGr   1460 non-null   int64  \n",
      " 23  TotRmsAbvGrd   1460 non-null   int64  \n",
      " 24  Fireplaces     1460 non-null   int64  \n",
      " 25  FireplaceQu    1460 non-null   int32  \n",
      " 26  GarageArea     1460 non-null   int64  \n",
      " 27  WoodDeckSF     1460 non-null   int64  \n",
      " 28  OpenPorchSF    1460 non-null   int64  \n",
      " 29  EnclosedPorch  1460 non-null   int64  \n",
      " 30  3SsnPorch      1460 non-null   int64  \n",
      " 31  ScreenPorch    1460 non-null   int64  \n",
      " 32  PoolArea       1460 non-null   int64  \n",
      " 33  MiscVal        1460 non-null   int64  \n",
      " 34  SaleType       1460 non-null   int32  \n",
      " 35  SaleCondition  1460 non-null   int32  \n",
      "dtypes: float64(2), int32(9), int64(25)\n",
      "memory usage: 359.4 KB\n"
     ]
    }
   ],
   "source": [
    "x.info()"
   ]
  },
  {
   "cell_type": "code",
   "execution_count": 156,
   "metadata": {},
   "outputs": [],
   "source": [
    "x['MSZoning']=ind_labelEnc.fit_transform(x['MSZoning'])\n",
    "x['BldgType']=ind_labelEnc.fit_transform(x['BldgType'])\n",
    "x['HouseStyle']=ind_labelEnc.fit_transform(x['HouseStyle'])\n",
    "x['Foundation']=ind_labelEnc.fit_transform(x['Foundation'])\n",
    "x['CentralAir']=ind_labelEnc.fit_transform(x['CentralAir'])\n",
    "x['Electrical']=ind_labelEnc.fit_transform(x['Electrical'])\n",
    "x['FireplaceQu']=ind_labelEnc.fit_transform(x['FireplaceQu'])\n",
    "x['SaleType']=ind_labelEnc.fit_transform(x['SaleType'])\n",
    "x['SaleCondition']=ind_labelEnc.fit_transform(x['SaleCondition'])"
   ]
  },
  {
   "cell_type": "code",
   "execution_count": 163,
   "metadata": {},
   "outputs": [],
   "source": [
    "x['MasVnrArea'].fillna(0,inplace=True)"
   ]
  },
  {
   "cell_type": "code",
   "execution_count": 158,
   "metadata": {},
   "outputs": [],
   "source": [
    "y=house.iloc[:,-1]"
   ]
  },
  {
   "cell_type": "code",
   "execution_count": null,
   "metadata": {},
   "outputs": [],
   "source": []
  },
  {
   "cell_type": "code",
   "execution_count": 159,
   "metadata": {},
   "outputs": [],
   "source": [
    "from sklearn.model_selection import train_test_split"
   ]
  },
  {
   "cell_type": "code",
   "execution_count": 164,
   "metadata": {},
   "outputs": [],
   "source": [
    "x_train, x_test, y_train, y_test=train_test_split(x,y,test_size=0.25,random_state=0)"
   ]
  },
  {
   "cell_type": "code",
   "execution_count": 161,
   "metadata": {},
   "outputs": [],
   "source": [
    "from sklearn.linear_model import LinearRegression"
   ]
  },
  {
   "cell_type": "code",
   "execution_count": 165,
   "metadata": {},
   "outputs": [],
   "source": [
    "reg=LinearRegression()\n",
    "reg.fit(x_train,y_train)\n",
    "y_pred=reg.predict(x_test)"
   ]
  },
  {
   "cell_type": "code",
   "execution_count": 166,
   "metadata": {},
   "outputs": [
    {
     "data": {
      "text/plain": [
       "array([238556.43316908, 157949.60202497, 100803.08025092, 222069.34169889,\n",
       "       100551.96134353, 101068.10950505, 244518.25165435, 160215.65906203,\n",
       "       474656.76625654, 151944.10737367, 190136.34370648, 143415.25629772,\n",
       "       241408.061258  , 109849.22760233, 148132.99094358, 146715.85746552,\n",
       "       233332.11329011,  94284.78549054, 125284.43119497, 194961.98494387,\n",
       "       129770.97293165, 155892.71136788, 121527.85316369, 152458.53358938,\n",
       "       192132.25566319, 212276.40535745, 161816.37859773,  51672.34780823,\n",
       "       315217.22946181, 114602.61551864, 152292.2557954 , 212253.40913189,\n",
       "       140610.42574972, 283946.41842198, 305400.21307175, 192860.69654185,\n",
       "       276188.61238442, 111939.52304704, 226667.8888054 , 327046.00885969,\n",
       "       217260.31074859, 104704.11829924, 192335.45322014, 288600.31184644,\n",
       "       324386.32901037, 129295.47378288, 130922.36998506, 123704.5129977 ,\n",
       "       185107.92352363,  61619.26381829, 381176.67238925, 155304.69570268,\n",
       "       199226.41127384,  51995.1477262 , 249371.89503458,  76514.89680777,\n",
       "       110106.06141057, 240236.23959998, 142013.7441453 ,  95820.6655064 ,\n",
       "       147304.93550302, 129596.13215159, 156798.55273642, 168829.77207302,\n",
       "       238644.17722022, 188651.46121645, 114556.24099748, 206705.60110696,\n",
       "       153683.88842225, 201287.50955144, 196937.75408783,  81507.31464713,\n",
       "        64627.12462042, 265143.40515728,  56178.47140927, 258778.93876603,\n",
       "       115422.62520417,  81823.17276531, 299042.57454082, 191432.68988531,\n",
       "       126392.49071745, 127585.0190959 , 116385.85395104, 129953.83439514,\n",
       "       271801.2280372 , 201940.23624084,  88019.75680914, 199147.38782221,\n",
       "       162265.91372773, 144053.27573034, 189165.52185211, 198068.80171185,\n",
       "       172359.49402257, 233734.66219082, 197330.98420491, 182502.93998084,\n",
       "       226811.301223  , 177533.11022288,  87637.24006924, 169950.0618117 ,\n",
       "       251199.85673732, 224462.66681239, 126605.13020868, 158247.94072141,\n",
       "       111811.06704139, 259289.69855867, 206053.45779255,  73654.26791037,\n",
       "       183323.78614293, 138162.10100806, 101768.99991805, 107598.48292676,\n",
       "       199833.74495113, 117479.76237629, 184057.79522118, 158526.59366959,\n",
       "       385561.32593582, 120667.94086368, 232570.66724369, 265349.57066623,\n",
       "       161779.9393968 , 143387.29458032, 126498.09048864, 224814.46189357,\n",
       "       227655.79906146, 261380.54271506, 333776.87470676, 216044.13933647,\n",
       "       201147.91774343, 180951.62930177, 214931.86326811, 196139.80268384,\n",
       "       128331.35556393, 195858.35843887,  54597.82357163, 239625.23101709,\n",
       "       159230.7809864 , 191171.29153468,  82267.69047486, 176388.47918579,\n",
       "       151196.93455482, 108034.81082833, 242169.72461078, 139819.20429504,\n",
       "       126886.86330755, 171567.68102853, 219908.05629763, 137023.31610061,\n",
       "       284433.59392968, 239563.06094856, 209711.23001612, 343006.36179981,\n",
       "       281720.39190357, 185665.63385462, 195590.49180628, 320062.1069748 ,\n",
       "       118861.85440303, 204381.99442833, 118495.79812081, 175178.01102432,\n",
       "        88149.35384951, 140235.94573627, 194923.49642222, 100269.8227617 ,\n",
       "       245346.29633691, 133534.09284919, 141072.36932337, 279784.11919518,\n",
       "       215326.23864354, 160397.7917077 , 198444.72561672, 168070.51336371,\n",
       "       205426.49254862, 181211.10412839, 118046.15584823, 102993.0011165 ,\n",
       "       131658.72092898, 252417.51390644, 150600.91395787, 143798.62158098,\n",
       "       299133.1209848 , 196216.60451327, 127228.09529687, 282698.34902892,\n",
       "       102063.44904782, 208137.18781675, 105759.20706369, 218131.73785297,\n",
       "       204684.08970229, 143053.77486584, 128111.59767149, 181237.25257858,\n",
       "       208795.2177866 , 114804.33726628, 128197.17007028, 143329.66383236,\n",
       "        48898.73489845, 138568.36360541, 183754.58272871, 139679.4739803 ,\n",
       "       116586.49190072, 211522.25615293, 123149.68657163, 114331.92008875,\n",
       "       114152.20023575, 222221.58477969, 188473.61235023, 326224.50053109,\n",
       "       251012.51022276,  43605.11409503, 150938.97024651, 238469.52489109,\n",
       "        58315.84938839,  89282.54258095, 343945.53131316, 208510.68411829,\n",
       "       199627.92664256, 279671.09047555, 242454.90816587,  55747.79984621,\n",
       "       215977.76137777, 168670.99737556, 151437.027713  , 108043.83522782,\n",
       "       199003.78870863, 277003.21668933, 241176.86114065, 239985.50441457,\n",
       "       121064.6754819 , 171000.25737941,  71930.0388699 , 181219.96309705,\n",
       "        73079.71584728, 135278.17916085, 235462.59474338, 126283.46642866,\n",
       "       114223.93635616, 108749.35831438,  48599.36632348, 211292.20022265,\n",
       "       122125.01931389, 180269.67619764, 206153.83691699, 217024.64568553,\n",
       "       188516.84778175, 157170.10657774, 206334.93620576, 190362.43101202,\n",
       "       148594.97524735, 210428.11826229, 195355.65609574, 272592.67315356,\n",
       "       102980.10947526, 397179.79657662, 236736.85545791, 236619.87744265,\n",
       "        96262.50240629, 234230.3860627 , 419067.7546497 , 796955.65180442,\n",
       "       219298.13333634, 106515.53064922, 148361.58956351,  44891.33982024,\n",
       "       406217.13782875, 318922.75567866, 318144.22997026,  56186.1969835 ,\n",
       "       209018.45261196, 242454.69535366, 129474.83906808, 224767.88603989,\n",
       "       140006.56003941, 172830.59625012, 118619.66807678, 230022.42783009,\n",
       "       257787.46796906, 190806.30810721, 205614.31222303, 130248.3675076 ,\n",
       "       125195.4091374 , 330057.03768925, 165435.593483  , 145086.65461933,\n",
       "       212015.03761724, 197819.90145838, 132792.56126918, 282880.02768366,\n",
       "       427328.80127074, 200588.37117804,  68014.87318504,  86174.87931113,\n",
       "       311919.68588473, 101793.43177074, 125849.16033975, 284266.91893379,\n",
       "       226208.86141265, 200152.18987892, 144769.20785342, 175172.89087455,\n",
       "        66690.13744442, 132182.10376318, 200661.12165262, 185860.55212046,\n",
       "       153745.61860441, 151445.08823436, 153343.83656242, 186108.66803315,\n",
       "       199507.72033384, 188847.41663181, 103926.19834731, 146895.07699915,\n",
       "       149014.94978995, 124620.16813327, 123790.17701035, 136342.64053685,\n",
       "       308929.95548141, 123442.79691954, 180387.61250636, 168402.59257423,\n",
       "        89043.4720538 , 250052.42993248, 124297.39665655, 250438.55534665,\n",
       "       115901.65462234, 232774.09862961, 105898.58423957, 343585.42266911,\n",
       "       222791.60030357, 147035.22124077, 102736.08203324, 235780.85180708,\n",
       "       171340.75492267, 198824.12658281, 209488.80717066, 154114.5526178 ,\n",
       "       124005.86596541, 200486.49537618, 162031.51635755, 124699.22740213,\n",
       "       333532.12224116, 167748.81585766, 166014.4984668 , 207931.58497724,\n",
       "       170489.1602301 , 146993.93993702, 103844.17193014,  87408.86048576,\n",
       "        78383.83039051, 122833.1475313 , 212187.67146215, 314367.28643833,\n",
       "       116319.00128202,  84959.79824296, 161523.49600565, 365762.08408753,\n",
       "       287194.41404423, 154085.36497355, 268112.09402656, 280116.19596116,\n",
       "       339791.8510407 , 179544.21367445, 238767.34115905, 248840.353759  ,\n",
       "        92578.70219712])"
      ]
     },
     "execution_count": 166,
     "metadata": {},
     "output_type": "execute_result"
    }
   ],
   "source": [
    "y_pred"
   ]
  },
  {
   "cell_type": "code",
   "execution_count": 171,
   "metadata": {},
   "outputs": [
    {
     "data": {
      "text/plain": [
       "529     200624\n",
       "491     133000\n",
       "459     110000\n",
       "279     192000\n",
       "655      88000\n",
       "         ...  \n",
       "583     325000\n",
       "1245    178000\n",
       "1390    235000\n",
       "1375    239000\n",
       "638      85000\n",
       "Name: SalePrice, Length: 365, dtype: int64"
      ]
     },
     "execution_count": 171,
     "metadata": {},
     "output_type": "execute_result"
    }
   ],
   "source": [
    "y_test"
   ]
  },
  {
   "cell_type": "code",
   "execution_count": 169,
   "metadata": {},
   "outputs": [],
   "source": [
    "from sklearn.metrics import confusion_matrix, accuracy_score, classification_report"
   ]
  },
  {
   "cell_type": "code",
   "execution_count": 177,
   "metadata": {},
   "outputs": [],
   "source": [
    "from sklearn.metrics import mean_absolute_error,mean_squared_error,r2_score,explained_variance_score"
   ]
  },
  {
   "cell_type": "code",
   "execution_count": 174,
   "metadata": {},
   "outputs": [
    {
     "name": "stdout",
     "output_type": "stream",
     "text": [
      "22969.119809092488\n"
     ]
    }
   ],
   "source": [
    "print(mean_absolute_error(y_test,y_pred))"
   ]
  },
  {
   "cell_type": "code",
   "execution_count": 175,
   "metadata": {},
   "outputs": [
    {
     "name": "stdout",
     "output_type": "stream",
     "text": [
      "2121061223.076709\n"
     ]
    }
   ],
   "source": [
    "print(mean_squared_error(y_test,y_pred))"
   ]
  },
  {
   "cell_type": "code",
   "execution_count": 176,
   "metadata": {},
   "outputs": [
    {
     "name": "stdout",
     "output_type": "stream",
     "text": [
      "0.6787203943811475\n"
     ]
    }
   ],
   "source": [
    "print(r2_score(y_test,y_pred))"
   ]
  },
  {
   "cell_type": "code",
   "execution_count": 178,
   "metadata": {},
   "outputs": [
    {
     "name": "stdout",
     "output_type": "stream",
     "text": [
      "0.6788919494887096\n"
     ]
    }
   ],
   "source": [
    "print(explained_variance_score(y_test,y_pred))"
   ]
  },
  {
   "cell_type": "code",
   "execution_count": 180,
   "metadata": {},
   "outputs": [
    {
     "data": {
      "text/plain": [
       "[<matplotlib.lines.Line2D at 0x1f856497850>,\n",
       " <matplotlib.lines.Line2D at 0x1f86075e3d0>,\n",
       " <matplotlib.lines.Line2D at 0x1f8607ce8e0>,\n",
       " <matplotlib.lines.Line2D at 0x1f8607ce9a0>,\n",
       " <matplotlib.lines.Line2D at 0x1f8607cea60>,\n",
       " <matplotlib.lines.Line2D at 0x1f8607ceb20>,\n",
       " <matplotlib.lines.Line2D at 0x1f8607cebe0>,\n",
       " <matplotlib.lines.Line2D at 0x1f8607ceca0>,\n",
       " <matplotlib.lines.Line2D at 0x1f8607ced60>,\n",
       " <matplotlib.lines.Line2D at 0x1f8607cee20>,\n",
       " <matplotlib.lines.Line2D at 0x1f8607b5be0>,\n",
       " <matplotlib.lines.Line2D at 0x1f8607ceee0>,\n",
       " <matplotlib.lines.Line2D at 0x1f8607d6070>,\n",
       " <matplotlib.lines.Line2D at 0x1f8607d6130>,\n",
       " <matplotlib.lines.Line2D at 0x1f8607d61f0>,\n",
       " <matplotlib.lines.Line2D at 0x1f8607d62b0>,\n",
       " <matplotlib.lines.Line2D at 0x1f8607d6370>,\n",
       " <matplotlib.lines.Line2D at 0x1f8607d6430>,\n",
       " <matplotlib.lines.Line2D at 0x1f8607d64f0>,\n",
       " <matplotlib.lines.Line2D at 0x1f8607d65b0>,\n",
       " <matplotlib.lines.Line2D at 0x1f8607d6670>,\n",
       " <matplotlib.lines.Line2D at 0x1f8607d6730>,\n",
       " <matplotlib.lines.Line2D at 0x1f8607d67f0>,\n",
       " <matplotlib.lines.Line2D at 0x1f8607d68b0>,\n",
       " <matplotlib.lines.Line2D at 0x1f8607d6970>,\n",
       " <matplotlib.lines.Line2D at 0x1f8607d6a30>,\n",
       " <matplotlib.lines.Line2D at 0x1f8607d6af0>,\n",
       " <matplotlib.lines.Line2D at 0x1f8607d6bb0>,\n",
       " <matplotlib.lines.Line2D at 0x1f8607d6c70>,\n",
       " <matplotlib.lines.Line2D at 0x1f8607d6d30>,\n",
       " <matplotlib.lines.Line2D at 0x1f8607d6df0>,\n",
       " <matplotlib.lines.Line2D at 0x1f8607d6eb0>,\n",
       " <matplotlib.lines.Line2D at 0x1f8607d6f70>,\n",
       " <matplotlib.lines.Line2D at 0x1f8607da070>,\n",
       " <matplotlib.lines.Line2D at 0x1f8607da130>,\n",
       " <matplotlib.lines.Line2D at 0x1f8607da1f0>]"
      ]
     },
     "execution_count": 180,
     "metadata": {},
     "output_type": "execute_result"
    },
    {
     "data": {
      "image/png": "[encoded data removed]",
      "text/plain": [
       "<Figure size 432x288 with 1 Axes>"
      ]
     },
     "metadata": {
      "needs_background": "light"
     },
     "output_type": "display_data"
    }
   ],
   "source": [
    "fig=plt.figure()\n",
    "ax=fig.add_axes([0,0,1,1])\n",
    "ax.plot(x_test,y_pred)"
   ]
  },
  {
   "cell_type": "code",
   "execution_count": null,
   "metadata": {},
   "outputs": [],
   "source": []
  }
 ],
 "metadata": {
  "kernelspec": {
   "display_name": "Python 3",
   "language": "python",
   "name": "python3"
  },
  "language_info": {
   "codemirror_mode": {
    "name": "ipython",
    "version": 3
   },
   "file_extension": ".py",
   "mimetype": "text/x-python",
   "name": "python",
   "nbconvert_exporter": "python",
   "pygments_lexer": "ipython3",
   "version": "3.9.0"
  }
 },
 "nbformat": 4,
 "nbformat_minor": 4
}
